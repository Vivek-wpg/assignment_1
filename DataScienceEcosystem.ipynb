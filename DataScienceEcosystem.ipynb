{
 "cells": [
  {
   "cell_type": "markdown",
   "id": "b63bc808",
   "metadata": {},
   "source": [
    "# Data Science Tools and Ecosystem "
   ]
  },
  {
   "cell_type": "markdown",
   "id": "3c85a917",
   "metadata": {},
   "source": [
    "## Introduction\n",
    "### In this notebook for Data Science Tools and Ecosystem is summarized.  "
   ]
  },
  {
   "cell_type": "markdown",
   "id": "9d917f17",
   "metadata": {},
   "source": [
    "### Some of the popular languages that Data Scienctists usre are :\n",
    "\n",
    "<ol>\n",
    "<li>Python</li>\n",
    "<li>R</li>\n",
    "<li>Julia</li>\n",
    "<li>Jave</li>\n",
    "<li>C++</li>\n",
    "</ol>"
   ]
  },
  {
   "cell_type": "markdown",
   "id": "59137765",
   "metadata": {},
   "source": [
    "### Some of the commonly used libraries used by Data Scientists include:\n",
    "<ol>\n",
    "<li>Pandas</li>\n",
    "<li>Numpy</li>\n",
    "<li>Matplotlib</li>\n",
    "<li>Scikit-learn</li>\n",
    "<li>Plotly</li>\n",
    "</ol>"
   ]
  },
  {
   "cell_type": "markdown",
   "id": "d33631fb",
   "metadata": {},
   "source": [
    "| Data Science Tools |\n",
    "| :- |\n",
    "| 1. Jupyter IDE \n",
    "| 2. R Studio  \n",
    "| 3. Microsoft Visual Studio "
   ]
  },
  {
   "cell_type": "markdown",
   "id": "5986ccd1",
   "metadata": {},
   "source": [
    "### Below are a few examples of evaluating arithmetic expressions in Python\n",
    "\n",
    "| Operators |  Syntax | Functioning |\n",
    "| :- |:-|:-|\n",
    "| + |x + y |Addition|\n",
    "| – |x – y |Subtraction|\n",
    "| * |x * y | Multiplication|\n",
    "| / | x / y |Division|"
   ]
  },
  {
   "cell_type": "code",
   "execution_count": 2,
   "id": "07d9002d",
   "metadata": {},
   "outputs": [
    {
     "name": "stdout",
     "output_type": "stream",
     "text": [
      "17\n"
     ]
    }
   ],
   "source": [
    "# This a simple arithmetic expression to mutiply then add integers\n",
    "print((3*4)+5)"
   ]
  },
  {
   "cell_type": "code",
   "execution_count": 10,
   "id": "5899e301",
   "metadata": {},
   "outputs": [
    {
     "name": "stdout",
     "output_type": "stream",
     "text": [
      "3.3333333333333335\n",
      "not a good answer as the hours are not in decimals\n",
      "3 hours 20 minutes\n",
      "This is the correct way by taking quotient and remander and showing in hours and minutes\n"
     ]
    }
   ],
   "source": [
    "# the code below is to convert minutes in hours\n",
    "m=200\n",
    "h=60 # converting minutes m=200 to hours by dividing by h=60\n",
    "print(m/h) \n",
    "print(\"not a good answer as the hours are not in decimals\")\n",
    "print( str(m//h) + ' hours ' + str(m%h) +' minutes'  )\n",
    "print(\"This is the correct way by taking quotient and remander and showing in hours and minutes\")"
   ]
  },
  {
   "cell_type": "markdown",
   "id": "83efab54",
   "metadata": {},
   "source": [
    "<b>Objectives</b>\n",
    "<ul>\n",
    "    <li>Popular Languages</li>\n",
    "    <li>Popular Programming Environments</li>\n",
    "    <li>Creating Juypter Notebook</li>\n",
    "    <li>Diffrence between Markdown and Code Cells</li>\n",
    "</ul>"
   ]
  },
  {
   "cell_type": "markdown",
   "id": "786cd066",
   "metadata": {},
   "source": [
    "## Author\n",
    "Vivek Gupta"
   ]
  },
  {
   "cell_type": "code",
   "execution_count": null,
   "id": "b3306a7a",
   "metadata": {},
   "outputs": [],
   "source": []
  }
 ],
 "metadata": {
  "kernelspec": {
   "display_name": "Python 3 (ipykernel)",
   "language": "python",
   "name": "python3"
  },
  "language_info": {
   "codemirror_mode": {
    "name": "ipython",
    "version": 3
   },
   "file_extension": ".py",
   "mimetype": "text/x-python",
   "name": "python",
   "nbconvert_exporter": "python",
   "pygments_lexer": "ipython3",
   "version": "3.8.5"
  }
 },
 "nbformat": 4,
 "nbformat_minor": 5
}
